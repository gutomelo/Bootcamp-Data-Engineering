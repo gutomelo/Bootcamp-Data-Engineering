{
 "cells": [
  {
   "cell_type": "markdown",
   "metadata": {},
   "source": [
    "# EXTRAÇÃO E ANÁLISE DE DADOS DO ENEM 2019"
   ]
  },
  {
   "cell_type": "code",
   "execution_count": 1,
   "metadata": {},
   "outputs": [],
   "source": [
    "# Importar as biblioteca necessárias\n",
    "import pandas as pd\n",
    "import numpy as np\n",
    "from io import BytesIO\n",
    "import zipfile\n",
    "import requests\n",
    "import os"
   ]
  },
  {
   "cell_type": "code",
   "execution_count": null,
   "metadata": {},
   "outputs": [],
   "source": [
    "# Criar um diretóro para armazenar o conteúdo de extração dos dados do ENEM\n",
    "os.makedirs('./Projeto_enem2019', exist_ok=True)"
   ]
  },
  {
   "cell_type": "code",
   "execution_count": null,
   "metadata": {},
   "outputs": [],
   "source": [
    "# Define URL para download e extração do arquivo microdados_enem_2019.zip\n",
    "url = \"https://download.inep.gov.br/microdados/microdados_enem_2019.zip\"\n",
    "\n",
    "# Faz o Download do conteúdo\n",
    "filebytes = BytesIO(\n",
    "    requests.get(url).content\n",
    ")\n",
    "\n",
    "# Extrair o conteúdo do zipfile\n",
    "myzip = zipfile.ZipFile(filebytes)\n",
    "myzip.extractall(\"./Projeto_enem2019\")"
   ]
  },
  {
   "cell_type": "markdown",
   "metadata": {},
   "source": [
    "### O arquivo MICRODADOS_ENEM_2019.csv é muito grande, cerca de 3GB e ler tudo isso de uma vez na memória, é preciso extrair os dados por partes e depois concátena-los só com os dados do estado de MG, conforme solicitado pela atividade."
   ]
  },
  {
   "cell_type": "code",
   "execution_count": null,
   "metadata": {},
   "outputs": [],
   "source": [
    "# Divide arquivo em mais partes por questões de memória filtrando por estado\n",
    "\n",
    "os.makedirs('./Projeto_enem2019/CHUNK/', exist_ok=True)\n",
    "\n",
    "chunk_size=1000000\n",
    "batch_no=1\n",
    "for chunk in pd.read_csv('./Projeto_enem2019/DADOS/MICRODADOS_ENEM_2019.csv', sep = ';', decimal = ',', chunksize=chunk_size, encoding = \"Latin1\"):\n",
    "    chunk[chunk.SG_UF_RESIDENCIA == 'MG'].to_csv('./Projeto_enem2019/CHUNK/chunk'+str(batch_no)+'.csv', sep = ';', decimal = ',', encoding = \"Latin1\", index=False)\n",
    "    batch_no+=1\n",
    "\n",
    "# Cria um DataFrame único com todos os arquivos filtrados\n",
    "columns= chunk.columns\n",
    "enem = pd.DataFrame(columns = columns)\n",
    "for i in range(1, batch_no):\n",
    "    input = pd.read_csv('./Projeto_enem2019/CHUNK/chunk'+str(i)+'.csv', sep = ';', decimal = ',', encoding = \"Latin1\")\n",
    "    enem = enem.append(input, ignore_index =True)\n",
    "\n",
    "# Cria um arquivo CSV único com os dados filtrados \n",
    "enem.to_csv('./Projeto_enem2019/CHUNK/MICRODADOS_ENEM_2019_MG.csv', sep = ';', decimal = ',', encoding = \"Latin1\", index=False)"
   ]
  },
  {
   "cell_type": "code",
   "execution_count": 2,
   "metadata": {},
   "outputs": [],
   "source": [
    "# Carrega o dataframe caso já tenha feito o processo de separação dos dados de MG\n",
    "enem = pd.read_csv('./Projeto_enem2019/CHUNK/MICRODADOS_ENEM_2019_MG.csv', sep = ';', decimal = ',', encoding = \"Latin1\")"
   ]
  },
  {
   "cell_type": "code",
   "execution_count": 3,
   "metadata": {},
   "outputs": [
    {
     "data": {
      "text/html": [
       "<div>\n",
       "<style scoped>\n",
       "    .dataframe tbody tr th:only-of-type {\n",
       "        vertical-align: middle;\n",
       "    }\n",
       "\n",
       "    .dataframe tbody tr th {\n",
       "        vertical-align: top;\n",
       "    }\n",
       "\n",
       "    .dataframe thead th {\n",
       "        text-align: right;\n",
       "    }\n",
       "</style>\n",
       "<table border=\"1\" class=\"dataframe\">\n",
       "  <thead>\n",
       "    <tr style=\"text-align: right;\">\n",
       "      <th></th>\n",
       "      <th>NU_INSCRICAO</th>\n",
       "      <th>NU_ANO</th>\n",
       "      <th>CO_MUNICIPIO_RESIDENCIA</th>\n",
       "      <th>NO_MUNICIPIO_RESIDENCIA</th>\n",
       "      <th>CO_UF_RESIDENCIA</th>\n",
       "      <th>SG_UF_RESIDENCIA</th>\n",
       "      <th>NU_IDADE</th>\n",
       "      <th>TP_SEXO</th>\n",
       "      <th>TP_ESTADO_CIVIL</th>\n",
       "      <th>TP_COR_RACA</th>\n",
       "      <th>...</th>\n",
       "      <th>Q016</th>\n",
       "      <th>Q017</th>\n",
       "      <th>Q018</th>\n",
       "      <th>Q019</th>\n",
       "      <th>Q020</th>\n",
       "      <th>Q021</th>\n",
       "      <th>Q022</th>\n",
       "      <th>Q023</th>\n",
       "      <th>Q024</th>\n",
       "      <th>Q025</th>\n",
       "    </tr>\n",
       "  </thead>\n",
       "  <tbody>\n",
       "    <tr>\n",
       "      <th>0</th>\n",
       "      <td>190001005671</td>\n",
       "      <td>2019</td>\n",
       "      <td>3170206</td>\n",
       "      <td>Uberlândia</td>\n",
       "      <td>31</td>\n",
       "      <td>MG</td>\n",
       "      <td>21</td>\n",
       "      <td>M</td>\n",
       "      <td>1</td>\n",
       "      <td>1</td>\n",
       "      <td>...</td>\n",
       "      <td>B</td>\n",
       "      <td>A</td>\n",
       "      <td>A</td>\n",
       "      <td>D</td>\n",
       "      <td>A</td>\n",
       "      <td>A</td>\n",
       "      <td>D</td>\n",
       "      <td>B</td>\n",
       "      <td>B</td>\n",
       "      <td>B</td>\n",
       "    </tr>\n",
       "    <tr>\n",
       "      <th>1</th>\n",
       "      <td>190001009861</td>\n",
       "      <td>2019</td>\n",
       "      <td>3111705</td>\n",
       "      <td>Canaã</td>\n",
       "      <td>31</td>\n",
       "      <td>MG</td>\n",
       "      <td>20</td>\n",
       "      <td>M</td>\n",
       "      <td>1</td>\n",
       "      <td>1</td>\n",
       "      <td>...</td>\n",
       "      <td>A</td>\n",
       "      <td>A</td>\n",
       "      <td>A</td>\n",
       "      <td>B</td>\n",
       "      <td>A</td>\n",
       "      <td>A</td>\n",
       "      <td>C</td>\n",
       "      <td>A</td>\n",
       "      <td>A</td>\n",
       "      <td>A</td>\n",
       "    </tr>\n",
       "    <tr>\n",
       "      <th>2</th>\n",
       "      <td>190001021622</td>\n",
       "      <td>2019</td>\n",
       "      <td>3104007</td>\n",
       "      <td>Araxá</td>\n",
       "      <td>31</td>\n",
       "      <td>MG</td>\n",
       "      <td>24</td>\n",
       "      <td>M</td>\n",
       "      <td>1</td>\n",
       "      <td>2</td>\n",
       "      <td>...</td>\n",
       "      <td>A</td>\n",
       "      <td>A</td>\n",
       "      <td>A</td>\n",
       "      <td>C</td>\n",
       "      <td>B</td>\n",
       "      <td>A</td>\n",
       "      <td>C</td>\n",
       "      <td>A</td>\n",
       "      <td>A</td>\n",
       "      <td>B</td>\n",
       "    </tr>\n",
       "    <tr>\n",
       "      <th>3</th>\n",
       "      <td>190001026636</td>\n",
       "      <td>2019</td>\n",
       "      <td>3106200</td>\n",
       "      <td>Belo Horizonte</td>\n",
       "      <td>31</td>\n",
       "      <td>MG</td>\n",
       "      <td>33</td>\n",
       "      <td>M</td>\n",
       "      <td>1</td>\n",
       "      <td>1</td>\n",
       "      <td>...</td>\n",
       "      <td>B</td>\n",
       "      <td>A</td>\n",
       "      <td>B</td>\n",
       "      <td>B</td>\n",
       "      <td>A</td>\n",
       "      <td>A</td>\n",
       "      <td>D</td>\n",
       "      <td>A</td>\n",
       "      <td>D</td>\n",
       "      <td>B</td>\n",
       "    </tr>\n",
       "    <tr>\n",
       "      <th>4</th>\n",
       "      <td>190001026742</td>\n",
       "      <td>2019</td>\n",
       "      <td>3162401</td>\n",
       "      <td>São João da Ponte</td>\n",
       "      <td>31</td>\n",
       "      <td>MG</td>\n",
       "      <td>23</td>\n",
       "      <td>M</td>\n",
       "      <td>1</td>\n",
       "      <td>3</td>\n",
       "      <td>...</td>\n",
       "      <td>A</td>\n",
       "      <td>A</td>\n",
       "      <td>A</td>\n",
       "      <td>B</td>\n",
       "      <td>B</td>\n",
       "      <td>A</td>\n",
       "      <td>C</td>\n",
       "      <td>A</td>\n",
       "      <td>B</td>\n",
       "      <td>A</td>\n",
       "    </tr>\n",
       "  </tbody>\n",
       "</table>\n",
       "<p>5 rows × 136 columns</p>\n",
       "</div>"
      ],
      "text/plain": [
       "   NU_INSCRICAO  NU_ANO  CO_MUNICIPIO_RESIDENCIA NO_MUNICIPIO_RESIDENCIA  \\\n",
       "0  190001005671    2019                  3170206              Uberlândia   \n",
       "1  190001009861    2019                  3111705                   Canaã   \n",
       "2  190001021622    2019                  3104007                   Araxá   \n",
       "3  190001026636    2019                  3106200          Belo Horizonte   \n",
       "4  190001026742    2019                  3162401       São João da Ponte   \n",
       "\n",
       "   CO_UF_RESIDENCIA SG_UF_RESIDENCIA  NU_IDADE TP_SEXO  TP_ESTADO_CIVIL  \\\n",
       "0                31               MG        21       M                1   \n",
       "1                31               MG        20       M                1   \n",
       "2                31               MG        24       M                1   \n",
       "3                31               MG        33       M                1   \n",
       "4                31               MG        23       M                1   \n",
       "\n",
       "   TP_COR_RACA  ...  Q016  Q017 Q018  Q019 Q020  Q021  Q022  Q023  Q024  Q025  \n",
       "0            1  ...     B     A    A     D    A     A     D     B     B     B  \n",
       "1            1  ...     A     A    A     B    A     A     C     A     A     A  \n",
       "2            2  ...     A     A    A     C    B     A     C     A     A     B  \n",
       "3            1  ...     B     A    B     B    A     A     D     A     D     B  \n",
       "4            3  ...     A     A    A     B    B     A     C     A     B     A  \n",
       "\n",
       "[5 rows x 136 columns]"
      ]
     },
     "execution_count": 3,
     "metadata": {},
     "output_type": "execute_result"
    }
   ],
   "source": [
    "# Verificando as 5 primeiros linha do arquivo MICRODADOS_ENEM_2019_MG\n",
    "enem.head()"
   ]
  },
  {
   "cell_type": "code",
   "execution_count": 4,
   "metadata": {},
   "outputs": [
    {
     "data": {
      "text/plain": [
       "{'NU_INSCRICAO': dtype('int64'),\n",
       " 'NU_ANO': dtype('int64'),\n",
       " 'CO_MUNICIPIO_RESIDENCIA': dtype('int64'),\n",
       " 'NO_MUNICIPIO_RESIDENCIA': dtype('O'),\n",
       " 'CO_UF_RESIDENCIA': dtype('int64'),\n",
       " 'SG_UF_RESIDENCIA': dtype('O'),\n",
       " 'NU_IDADE': dtype('int64'),\n",
       " 'TP_SEXO': dtype('O'),\n",
       " 'TP_ESTADO_CIVIL': dtype('int64'),\n",
       " 'TP_COR_RACA': dtype('int64'),\n",
       " 'TP_NACIONALIDADE': dtype('int64'),\n",
       " 'CO_MUNICIPIO_NASCIMENTO': dtype('float64'),\n",
       " 'NO_MUNICIPIO_NASCIMENTO': dtype('O'),\n",
       " 'CO_UF_NASCIMENTO': dtype('float64'),\n",
       " 'SG_UF_NASCIMENTO': dtype('O'),\n",
       " 'TP_ST_CONCLUSAO': dtype('int64'),\n",
       " 'TP_ANO_CONCLUIU': dtype('int64'),\n",
       " 'TP_ESCOLA': dtype('int64'),\n",
       " 'TP_ENSINO': dtype('float64'),\n",
       " 'IN_TREINEIRO': dtype('int64'),\n",
       " 'CO_ESCOLA': dtype('float64'),\n",
       " 'CO_MUNICIPIO_ESC': dtype('float64'),\n",
       " 'NO_MUNICIPIO_ESC': dtype('O'),\n",
       " 'CO_UF_ESC': dtype('float64'),\n",
       " 'SG_UF_ESC': dtype('O'),\n",
       " 'TP_DEPENDENCIA_ADM_ESC': dtype('float64'),\n",
       " 'TP_LOCALIZACAO_ESC': dtype('float64'),\n",
       " 'TP_SIT_FUNC_ESC': dtype('float64'),\n",
       " 'IN_BAIXA_VISAO': dtype('int64'),\n",
       " 'IN_CEGUEIRA': dtype('int64'),\n",
       " 'IN_SURDEZ': dtype('int64'),\n",
       " 'IN_DEFICIENCIA_AUDITIVA': dtype('int64'),\n",
       " 'IN_SURDO_CEGUEIRA': dtype('int64'),\n",
       " 'IN_DEFICIENCIA_FISICA': dtype('int64'),\n",
       " 'IN_DEFICIENCIA_MENTAL': dtype('int64'),\n",
       " 'IN_DEFICIT_ATENCAO': dtype('int64'),\n",
       " 'IN_DISLEXIA': dtype('int64'),\n",
       " 'IN_DISCALCULIA': dtype('int64'),\n",
       " 'IN_AUTISMO': dtype('int64'),\n",
       " 'IN_VISAO_MONOCULAR': dtype('int64'),\n",
       " 'IN_OUTRA_DEF': dtype('int64'),\n",
       " 'IN_GESTANTE': dtype('int64'),\n",
       " 'IN_LACTANTE': dtype('int64'),\n",
       " 'IN_IDOSO': dtype('int64'),\n",
       " 'IN_ESTUDA_CLASSE_HOSPITALAR': dtype('int64'),\n",
       " 'IN_SEM_RECURSO': dtype('int64'),\n",
       " 'IN_BRAILLE': dtype('int64'),\n",
       " 'IN_AMPLIADA_24': dtype('int64'),\n",
       " 'IN_AMPLIADA_18': dtype('int64'),\n",
       " 'IN_LEDOR': dtype('int64'),\n",
       " 'IN_ACESSO': dtype('int64'),\n",
       " 'IN_TRANSCRICAO': dtype('int64'),\n",
       " 'IN_LIBRAS': dtype('int64'),\n",
       " 'IN_TEMPO_ADICIONAL': dtype('int64'),\n",
       " 'IN_LEITURA_LABIAL': dtype('int64'),\n",
       " 'IN_MESA_CADEIRA_RODAS': dtype('int64'),\n",
       " 'IN_MESA_CADEIRA_SEPARADA': dtype('int64'),\n",
       " 'IN_APOIO_PERNA': dtype('int64'),\n",
       " 'IN_GUIA_INTERPRETE': dtype('int64'),\n",
       " 'IN_COMPUTADOR': dtype('int64'),\n",
       " 'IN_CADEIRA_ESPECIAL': dtype('int64'),\n",
       " 'IN_CADEIRA_CANHOTO': dtype('int64'),\n",
       " 'IN_CADEIRA_ACOLCHOADA': dtype('int64'),\n",
       " 'IN_PROVA_DEITADO': dtype('int64'),\n",
       " 'IN_MOBILIARIO_OBESO': dtype('int64'),\n",
       " 'IN_LAMINA_OVERLAY': dtype('int64'),\n",
       " 'IN_PROTETOR_AURICULAR': dtype('int64'),\n",
       " 'IN_MEDIDOR_GLICOSE': dtype('int64'),\n",
       " 'IN_MAQUINA_BRAILE': dtype('int64'),\n",
       " 'IN_SOROBAN': dtype('int64'),\n",
       " 'IN_MARCA_PASSO': dtype('int64'),\n",
       " 'IN_SONDA': dtype('int64'),\n",
       " 'IN_MEDICAMENTOS': dtype('int64'),\n",
       " 'IN_SALA_INDIVIDUAL': dtype('int64'),\n",
       " 'IN_SALA_ESPECIAL': dtype('int64'),\n",
       " 'IN_SALA_ACOMPANHANTE': dtype('int64'),\n",
       " 'IN_MOBILIARIO_ESPECIFICO': dtype('int64'),\n",
       " 'IN_MATERIAL_ESPECIFICO': dtype('int64'),\n",
       " 'IN_NOME_SOCIAL': dtype('int64'),\n",
       " 'CO_MUNICIPIO_PROVA': dtype('int64'),\n",
       " 'NO_MUNICIPIO_PROVA': dtype('O'),\n",
       " 'CO_UF_PROVA': dtype('int64'),\n",
       " 'SG_UF_PROVA': dtype('O'),\n",
       " 'TP_PRESENCA_CN': dtype('int64'),\n",
       " 'TP_PRESENCA_CH': dtype('int64'),\n",
       " 'TP_PRESENCA_LC': dtype('int64'),\n",
       " 'TP_PRESENCA_MT': dtype('int64'),\n",
       " 'CO_PROVA_CN': dtype('float64'),\n",
       " 'CO_PROVA_CH': dtype('float64'),\n",
       " 'CO_PROVA_LC': dtype('float64'),\n",
       " 'CO_PROVA_MT': dtype('float64'),\n",
       " 'NU_NOTA_CN': dtype('O'),\n",
       " 'NU_NOTA_CH': dtype('O'),\n",
       " 'NU_NOTA_LC': dtype('O'),\n",
       " 'NU_NOTA_MT': dtype('O'),\n",
       " 'TX_RESPOSTAS_CN': dtype('O'),\n",
       " 'TX_RESPOSTAS_CH': dtype('O'),\n",
       " 'TX_RESPOSTAS_LC': dtype('O'),\n",
       " 'TX_RESPOSTAS_MT': dtype('O'),\n",
       " 'TP_LINGUA': dtype('int64'),\n",
       " 'TX_GABARITO_CN': dtype('O'),\n",
       " 'TX_GABARITO_CH': dtype('O'),\n",
       " 'TX_GABARITO_LC': dtype('O'),\n",
       " 'TX_GABARITO_MT': dtype('O'),\n",
       " 'TP_STATUS_REDACAO': dtype('float64'),\n",
       " 'NU_NOTA_COMP1': dtype('float64'),\n",
       " 'NU_NOTA_COMP2': dtype('float64'),\n",
       " 'NU_NOTA_COMP3': dtype('float64'),\n",
       " 'NU_NOTA_COMP4': dtype('float64'),\n",
       " 'NU_NOTA_COMP5': dtype('float64'),\n",
       " 'NU_NOTA_REDACAO': dtype('float64'),\n",
       " 'Q001': dtype('O'),\n",
       " 'Q002': dtype('O'),\n",
       " 'Q003': dtype('O'),\n",
       " 'Q004': dtype('O'),\n",
       " 'Q005': dtype('int64'),\n",
       " 'Q006': dtype('O'),\n",
       " 'Q007': dtype('O'),\n",
       " 'Q008': dtype('O'),\n",
       " 'Q009': dtype('O'),\n",
       " 'Q010': dtype('O'),\n",
       " 'Q011': dtype('O'),\n",
       " 'Q012': dtype('O'),\n",
       " 'Q013': dtype('O'),\n",
       " 'Q014': dtype('O'),\n",
       " 'Q015': dtype('O'),\n",
       " 'Q016': dtype('O'),\n",
       " 'Q017': dtype('O'),\n",
       " 'Q018': dtype('O'),\n",
       " 'Q019': dtype('O'),\n",
       " 'Q020': dtype('O'),\n",
       " 'Q021': dtype('O'),\n",
       " 'Q022': dtype('O'),\n",
       " 'Q023': dtype('O'),\n",
       " 'Q024': dtype('O'),\n",
       " 'Q025': dtype('O')}"
      ]
     },
     "execution_count": 4,
     "metadata": {},
     "output_type": "execute_result"
    }
   ],
   "source": [
    "# Verificando os tipos de dados da tabela\n",
    "dict(enem.dtypes)"
   ]
  },
  {
   "cell_type": "code",
   "execution_count": 5,
   "metadata": {},
   "outputs": [
    {
     "data": {
      "text/plain": [
       "count     538896\n",
       "unique         1\n",
       "top           MG\n",
       "freq      538896\n",
       "Name: SG_UF_RESIDENCIA, dtype: object"
      ]
     },
     "execution_count": 5,
     "metadata": {},
     "output_type": "execute_result"
    }
   ],
   "source": [
    "# Gerando estatísticas descritivas.\n",
    "enem.SG_UF_RESIDENCIA.describe()"
   ]
  },
  {
   "cell_type": "code",
   "execution_count": 6,
   "metadata": {},
   "outputs": [
    {
     "data": {
      "text/plain": [
       "0"
      ]
     },
     "execution_count": 6,
     "metadata": {},
     "output_type": "execute_result"
    }
   ],
   "source": [
    "# Contando o número de nulos\n",
    "enem.SG_UF_RESIDENCIA.isnull().sum()"
   ]
  },
  {
   "cell_type": "code",
   "execution_count": 7,
   "metadata": {},
   "outputs": [
    {
     "data": {
      "text/plain": [
       "(538896, 136)"
      ]
     },
     "execution_count": 7,
     "metadata": {},
     "output_type": "execute_result"
    }
   ],
   "source": [
    "# Contato o número de linhas e colunas\n",
    "enem.shape"
   ]
  },
  {
   "cell_type": "code",
   "execution_count": 8,
   "metadata": {},
   "outputs": [
    {
     "data": {
      "text/plain": [
       "0.0"
      ]
     },
     "execution_count": 8,
     "metadata": {},
     "output_type": "execute_result"
    }
   ],
   "source": [
    "# Quantidade relativa de nulos\n",
    "enem.SG_UF_RESIDENCIA.isnull().sum()/enem.shape[0]"
   ]
  },
  {
   "cell_type": "markdown",
   "metadata": {},
   "source": [
    "### Quetionário da atividade prática"
   ]
  },
  {
   "cell_type": "code",
   "execution_count": 9,
   "metadata": {},
   "outputs": [
    {
     "data": {
      "text/plain": [
       "546.7962076512125"
      ]
     },
     "execution_count": 9,
     "metadata": {},
     "output_type": "execute_result"
    }
   ],
   "source": [
    "# 1-Qual é a média da nota em matemática de todos os alunos mineiros?\n",
    "enem.NU_NOTA_MT.astype(float).mean()"
   ]
  },
  {
   "cell_type": "code",
   "execution_count": 10,
   "metadata": {},
   "outputs": [
    {
     "data": {
      "text/plain": [
       "531.2155500475544"
      ]
     },
     "execution_count": 10,
     "metadata": {},
     "output_type": "execute_result"
    }
   ],
   "source": [
    "# 2-Qual é a média da nota em Linguagens e Códigos de todos os alunos mineiros?\n",
    "enem.NU_NOTA_LC.astype(float).mean()"
   ]
  },
  {
   "cell_type": "code",
   "execution_count": 11,
   "metadata": {},
   "outputs": [
    {
     "data": {
      "text/plain": [
       "515.1270983575349"
      ]
     },
     "execution_count": 11,
     "metadata": {},
     "output_type": "execute_result"
    }
   ],
   "source": [
    "# 3-Qual é a média da nota em Ciências Humanas dos alunos do sexo FEMININO mineiros?\n",
    "enem.loc[\n",
    "    enem.TP_SEXO ==\"F\",\n",
    "    \"NU_NOTA_CH\"\n",
    "].astype(float).mean()"
   ]
  },
  {
   "cell_type": "code",
   "execution_count": 12,
   "metadata": {},
   "outputs": [
    {
     "data": {
      "text/plain": [
       "529.6982704731574"
      ]
     },
     "execution_count": 12,
     "metadata": {},
     "output_type": "execute_result"
    }
   ],
   "source": [
    "# 4-Qual é a média da nota em Ciências Humanas dos alunos do sexo MASCULINO?\n",
    "enem.loc[\n",
    "    enem.TP_SEXO ==\"M\",\n",
    "    \"NU_NOTA_CH\"\n",
    "].astype(float).mean()"
   ]
  },
  {
   "cell_type": "code",
   "execution_count": 13,
   "metadata": {},
   "outputs": [
    {
     "data": {
      "text/plain": [
       "525.4776724249901"
      ]
     },
     "execution_count": 13,
     "metadata": {},
     "output_type": "execute_result"
    }
   ],
   "source": [
    "# 5-Qual é a média da nota em Matemática dos alunos do sexo FEMININO que moram na cidade de Montes Claros?\n",
    "enem.loc[\n",
    "    (enem.NO_MUNICIPIO_RESIDENCIA ==\"Montes Claros\") &\n",
    "    (enem.TP_SEXO ==\"F\"),\n",
    "    \"NU_NOTA_MT\"\n",
    "].astype(float).mean()"
   ]
  },
  {
   "cell_type": "code",
   "execution_count": 14,
   "metadata": {},
   "outputs": [
    {
     "data": {
      "text/plain": [
       "543.2927556818183"
      ]
     },
     "execution_count": 14,
     "metadata": {},
     "output_type": "execute_result"
    }
   ],
   "source": [
    "# 6-Qual é a média da nota em Matemática dos alunos do município de Sabará que possuem TV por assinatura na residência?\n",
    "enem.loc[\n",
    "    (enem.NO_MUNICIPIO_RESIDENCIA ==\"Sabará\") &\n",
    "    (enem.Q021 == \"B\"),\n",
    "    \"NU_NOTA_MT\"\n",
    "].astype(float).mean()"
   ]
  },
  {
   "cell_type": "code",
   "execution_count": 15,
   "metadata": {},
   "outputs": [
    {
     "data": {
      "text/plain": [
       "557.2765986394558"
      ]
     },
     "execution_count": 15,
     "metadata": {},
     "output_type": "execute_result"
    }
   ],
   "source": [
    "# 7-Qual é a média da nota em Ciências Humanas dos alunos mineiros que possuem dois fornos micro-ondas em casa?\n",
    "enem.loc[\n",
    "    (enem.Q016 == \"C\"),\n",
    "    \"NU_NOTA_CH\"\n",
    "].astype(float).mean()"
   ]
  },
  {
   "cell_type": "code",
   "execution_count": 16,
   "metadata": {},
   "outputs": [
    {
     "data": {
      "text/plain": [
       "620.007062070985"
      ]
     },
     "execution_count": 16,
     "metadata": {},
     "output_type": "execute_result"
    }
   ],
   "source": [
    "# 8-Qual é a nota média em Matemática dos alunos mineiros cuja mãe completou a pós-graduação?\n",
    "enem.loc[\n",
    "    (enem.Q002 == \"G\"),\n",
    "    \"NU_NOTA_MT\"\n",
    "].astype(float).mean()"
   ]
  },
  {
   "cell_type": "code",
   "execution_count": 17,
   "metadata": {},
   "outputs": [
    {
     "data": {
      "text/plain": [
       "578.0392265100068"
      ]
     },
     "execution_count": 17,
     "metadata": {},
     "output_type": "execute_result"
    }
   ],
   "source": [
    "# 9-Qual é a nota média em Matemática dos alunos de Belo Horizonte e de Conselheiro Lafaiete?\n",
    "enem.loc[\n",
    "    (enem.NO_MUNICIPIO_RESIDENCIA.isin(['Belo Horizonte','Conselheiro Lafaiete'])),\n",
    "    \"NU_NOTA_MT\"\n",
    "].astype(float).mean()"
   ]
  },
  {
   "cell_type": "code",
   "execution_count": 18,
   "metadata": {},
   "outputs": [
    {
     "data": {
      "text/plain": [
       "534.4573388609205"
      ]
     },
     "execution_count": 18,
     "metadata": {},
     "output_type": "execute_result"
    }
   ],
   "source": [
    "# 10-Qual é a nota média em Ciências Humanas dos alunos mineiros que moram sozinhos?\n",
    "enem.loc[\n",
    "    (enem.Q005 == 1),\n",
    "    \"NU_NOTA_CH\"\n",
    "].astype(float).mean()"
   ]
  },
  {
   "cell_type": "code",
   "execution_count": 19,
   "metadata": {},
   "outputs": [
    {
     "data": {
      "text/plain": [
       "586.7231663685159"
      ]
     },
     "execution_count": 19,
     "metadata": {},
     "output_type": "execute_result"
    }
   ],
   "source": [
    "# 11-Qual é a nota média em Ciências Humanas dos alunos mineiros cujo pai completou pós-graduação e possuem renda familiar entre R$ 8.982,01 e R$ 9.980,00.\n",
    "enem.loc[\n",
    "    (enem.Q001 == \"G\") &\n",
    "    (enem.Q006 == \"M\"),\n",
    "    \"NU_NOTA_CH\"\n",
    "].astype(float).mean()"
   ]
  },
  {
   "cell_type": "code",
   "execution_count": 20,
   "metadata": {},
   "outputs": [
    {
     "data": {
      "text/plain": [
       "510.80950782997775"
      ]
     },
     "execution_count": 20,
     "metadata": {},
     "output_type": "execute_result"
    }
   ],
   "source": [
    "# 12-Qual é a nota média em Matemática dos alunos do sexo Feminino que moram em Lavras e escolheram “Espanhol” como língua estrangeira?\n",
    "enem.loc[\n",
    "    (enem.TP_SEXO ==\"F\") &\n",
    "    (enem.NO_MUNICIPIO_RESIDENCIA.isin(['Lavras'])) &\n",
    "    (enem.TP_LINGUA ==1),\n",
    "    \"NU_NOTA_MT\"\n",
    "].astype(float).mean()"
   ]
  },
  {
   "cell_type": "code",
   "execution_count": 21,
   "metadata": {},
   "outputs": [
    {
     "data": {
      "text/plain": [
       "555.0832520325198"
      ]
     },
     "execution_count": 21,
     "metadata": {},
     "output_type": "execute_result"
    }
   ],
   "source": [
    "# 13-Qual é a nota média em Matemática dos alunos do sexo Masculino que moram em Ouro Preto?\n",
    "enem.loc[\n",
    "    (enem.TP_SEXO ==\"M\") &\n",
    "    (enem.NO_MUNICIPIO_RESIDENCIA.isin(['Ouro Preto'])),\n",
    "    \"NU_NOTA_MT\"\n",
    "].astype(float).mean()"
   ]
  },
  {
   "cell_type": "code",
   "execution_count": 22,
   "metadata": {},
   "outputs": [
    {
     "data": {
      "text/plain": [
       "435.38796296296283"
      ]
     },
     "execution_count": 22,
     "metadata": {},
     "output_type": "execute_result"
    }
   ],
   "source": [
    "# 14-Qual é a nota média em Ciências Humanas dos alunos surdos?\n",
    "enem.loc[\n",
    "    (enem.IN_SURDEZ ==1),\n",
    "    \"NU_NOTA_CH\"\n",
    "].astype(float).mean()"
   ]
  },
  {
   "cell_type": "code",
   "execution_count": 23,
   "metadata": {},
   "outputs": [
    {
     "data": {
      "text/plain": [
       "582.1935483870968"
      ]
     },
     "execution_count": 23,
     "metadata": {},
     "output_type": "execute_result"
    }
   ],
   "source": [
    "# 15-Qual é a nota média em Matemática dos alunos do sexo FEMININO, que moram em Belo Horizonte, Sabará, Nova Lima e Betim e possuem dislexia?\n",
    "enem.loc[\n",
    "    (enem.TP_SEXO ==\"F\") &\n",
    "    (enem.NO_MUNICIPIO_RESIDENCIA.isin(['Belo Horizonte','Sabará','Nova Lima','Betim'])) &\n",
    "    (enem.IN_DISLEXIA ==1),\n",
    "    \"NU_NOTA_MT\"\n",
    "].astype(float).mean()"
   ]
  }
 ],
 "metadata": {
  "kernelspec": {
   "display_name": "Python 3",
   "language": "python",
   "name": "python3"
  },
  "language_info": {
   "codemirror_mode": {
    "name": "ipython",
    "version": 3
   },
   "file_extension": ".py",
   "mimetype": "text/x-python",
   "name": "python",
   "nbconvert_exporter": "python",
   "pygments_lexer": "ipython3",
   "version": "3.8.5"
  }
 },
 "nbformat": 4,
 "nbformat_minor": 4
}
