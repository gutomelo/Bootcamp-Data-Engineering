{
 "cells": [
  {
   "cell_type": "markdown",
   "metadata": {},
   "source": [
    "# Enade - Transformação de Dados - parte 2"
   ]
  },
  {
   "cell_type": "code",
   "execution_count": null,
   "metadata": {},
   "outputs": [],
   "source": [
    "# Importar as biblioteca necessárias\n",
    "import pandas as pd\n",
    "import numpy as np\n",
    "import os"
   ]
  },
  {
   "cell_type": "code",
   "execution_count": null,
   "metadata": {},
   "outputs": [],
   "source": [
    "enade = pd.read_csv(\n",
    "    \"./enade2019/microdados_enade_2019/2019/3.DADOS/microdados_enade_2019.txt\",\n",
    "    sep = \";\", decimal = \",\"\n",
    ")"
   ]
  },
  {
   "cell_type": "code",
   "execution_count": null,
   "metadata": {},
   "outputs": [],
   "source": [
    "enade.head()"
   ]
  },
  {
   "cell_type": "code",
   "execution_count": null,
   "metadata": {},
   "outputs": [],
   "source": [
    "# Verificando o esquema da tabela\n",
    "dict(enade.dtypes)"
   ]
  },
  {
   "cell_type": "markdown",
   "metadata": {},
   "source": [
    "- CO_IES\n",
    "- CO_CATEGAD\n",
    "- CO_GRUPO\n",
    "- CO_MODALIDADE\n",
    "- CO_UF_CURSO\n",
    "- CO_REGIAO_CURSO\n",
    "- NU_IDADE\n",
    "- TP_SEXO\n",
    "- NT_GER\n",
    "- NT_FG\n",
    "- NT_CE\n",
    "\n",
    "Mais aguns itens do questionário do estudante:\n",
    "- 01: Estado Civil\n",
    "- 02: Cor ou raça\n",
    "- 04: Escolaridade do pai\n",
    "- 05: Escolaridade da mãe\n",
    "- 08: Renda Familiar\n",
    "- 10: Situação de Trabalho\n",
    "- 11: Situação de bolsa\n",
    "- 14: Intercâmbio\n",
    "- 15: Cotas\n",
    "- 23: Horas de Estudo por semana\n",
    "- 25: Motivo de escolha do curso\n",
    "- 26: Motivo de escolha da IES"
   ]
  },
  {
   "cell_type": "code",
   "execution_count": null,
   "metadata": {},
   "outputs": [],
   "source": [
    "# NT_GER\n",
    "enade.NT_GER.describe()"
   ]
  },
  {
   "cell_type": "code",
   "execution_count": null,
   "metadata": {},
   "outputs": [],
   "source": [
    "# Contar o número de nulos\n",
    "enade.NT_GER.isnull().sum()"
   ]
  },
  {
   "cell_type": "code",
   "execution_count": null,
   "metadata": {},
   "outputs": [],
   "source": [
    "enade.shape"
   ]
  },
  {
   "cell_type": "code",
   "execution_count": null,
   "metadata": {},
   "outputs": [],
   "source": [
    "# Quantidade relativa de nulos\n",
    "enade.NT_GER.isnull().sum()/enade.shape[0]"
   ]
  },
  {
   "cell_type": "code",
   "execution_count": null,
   "metadata": {},
   "outputs": [],
   "source": [
    "# Acessando estatísticas descritivas da Nota Geral\n",
    "# apenas para os alunos da Região Centro-Oeste (5)\n",
    "enade.loc[\n",
    "    enade.CO_REGIAO_CURSO == 5\n",
    "].NT_GER.describe()"
   ]
  },
  {
   "cell_type": "code",
   "execution_count": null,
   "metadata": {},
   "outputs": [],
   "source": [
    "# Calculando estatísticas descritivas apenas paralunos com nota\n",
    "# maior do que zero\n",
    "enade.loc[\n",
    "    enade.NT_GER > 0\n",
    "].NT_GER.describe()"
   ]
  },
  {
   "cell_type": "code",
   "execution_count": null,
   "metadata": {},
   "outputs": [],
   "source": [
    "# Filtrando apenas alunos entre 20 e 50 anos\n",
    "enade.loc[\n",
    "   (enade.NU_IDADE >= 20) &\n",
    "    (enade.NU_IDADE <= 50)\n",
    "].NT_GER.describe()"
   ]
  },
  {
   "cell_type": "code",
   "execution_count": null,
   "metadata": {},
   "outputs": [],
   "source": [
    "# Tabela cruzada\n",
    "# Contar quantos homens e mulheres\n",
    "enade.TP_SEXO.value_counts() / enade.shape[0]"
   ]
  },
  {
   "cell_type": "code",
   "execution_count": null,
   "metadata": {},
   "outputs": [],
   "source": [
    "# Quero omparar as regiões - vamos agregar utilizando uma média\n",
    "\n",
    "enade[['NT_GER', 'NT_FG', 'NT_CE']].describe()"
   ]
  },
  {
   "cell_type": "code",
   "execution_count": null,
   "metadata": {},
   "outputs": [],
   "source": [
    "# vamo comparar médias de Notas para cada região do Brasil\n",
    "enade.groupby('CO_REGIAO_CURSO').agg({\n",
    "    \"NT_GER\": \"mean\",\n",
    "    \"NT_FG\":\"mean\",\n",
    "    \"NT_CE\":\"mean\"\n",
    "})"
   ]
  },
  {
   "cell_type": "markdown",
   "metadata": {},
   "source": [
    "# Transformações"
   ]
  },
  {
   "cell_type": "markdown",
   "metadata": {},
   "source": [
    "- CO_IES\n",
    "- CO_CATEGAD\n",
    "- CO_GRUPO\n",
    "- CO_MODALIDADE\n",
    "- CO_UF_CURSO\n",
    "- CO_REGIAO_CURSO\n",
    "- NU_IDADE\n",
    "- TP_SEXO\n",
    "- NT_GER\n",
    "- NT_FG\n",
    "- NT_CE"
   ]
  },
  {
   "cell_type": "code",
   "execution_count": null,
   "metadata": {},
   "outputs": [],
   "source": [
    "enade['DESC PUBLICA'] = \"\"\n",
    "enade.loc[\n",
    "    enade.CO_CATEGAD.isin([118,120,121,10005, 10006, 10007, 10008, 10005, 17634]),\n",
    "    \"DESC_PUBLICA\"\n",
    "] = \"Privado\""
   ]
  },
  {
   "cell_type": "code",
   "execution_count": null,
   "metadata": {},
   "outputs": [],
   "source": [
    "enade.loc[\n",
    "    enade.CO_CATEGAD.isin([93, 115, 116, 10001, 10002, 10003]),\n",
    "    \"DESC_PUBLICA\"\n",
    "] = \"Pública\""
   ]
  },
  {
   "cell_type": "code",
   "execution_count": null,
   "metadata": {},
   "outputs": [],
   "source": [
    "enade.DESC_PUBLICA.value_counts()"
   ]
  },
  {
   "cell_type": "code",
   "execution_count": null,
   "metadata": {},
   "outputs": [],
   "source": [
    "enade.DESC_PUBLICA.value_counts() / enade.shape[0]"
   ]
  },
  {
   "cell_type": "code",
   "execution_count": null,
   "metadata": {},
   "outputs": [],
   "source": [
    "# Transformar a modalidade\n",
    "enade.CO_MODALIDADE.value_counts()"
   ]
  },
  {
   "cell_type": "code",
   "execution_count": null,
   "metadata": {},
   "outputs": [],
   "source": [
    "enade.CO_MODALIDADE.replace({\n",
    "    0: 'EAD',\n",
    "    1: 'Presencial'\n",
    "})"
   ]
  },
  {
   "cell_type": "code",
   "execution_count": null,
   "metadata": {},
   "outputs": [],
   "source": [
    "enade[\"CO_MODALIDADE\"] = enade.CO_MODALIDADE.replace({\n",
    "    0: 'EAD',\n",
    "    1: 'Presencial'\n",
    "})"
   ]
  },
  {
   "cell_type": "code",
   "execution_count": null,
   "metadata": {},
   "outputs": [],
   "source": [
    "enade.CO_MODALIDADE.value_counts()"
   ]
  },
  {
   "cell_type": "code",
   "execution_count": null,
   "metadata": {},
   "outputs": [],
   "source": [
    "# Transforma Região\n",
    "enade[\"CO_REGIAO_CURSO\"] = enade.CO_REGIAO_CURSO.replace({\n",
    "    1:'Norte',\n",
    "    2:'Nordeste',\n",
    "    3:'Sudeste',\n",
    "    4:'Sul',\n",
    "    5:'Centro-Oeste'\n",
    "})"
   ]
  },
  {
   "cell_type": "code",
   "execution_count": null,
   "metadata": {},
   "outputs": [],
   "source": [
    "enade.CO_REGIAO_CURSO.value_counts()"
   ]
  },
  {
   "cell_type": "code",
   "execution_count": null,
   "metadata": {},
   "outputs": [],
   "source": [
    "# Transformando Cor ou Raça\n",
    "enade[\"DESC_COR\"] = enade.QE_I02.replace({\n",
    "    \"A\": \"Branca\",\n",
    "    \"B\": \"Preta\",\n",
    "    \"C\": \"Amarela\",\n",
    "    \"D\": \"Parda\",\n",
    "    \"E\": \"Indígena\",\n",
    "    \"F\": pd.NA,\n",
    "    \" \": pd.NA\n",
    "})"
   ]
  },
  {
   "cell_type": "code",
   "execution_count": null,
   "metadata": {},
   "outputs": [],
   "source": [
    "dict(enade.QE_I02.value_counts())"
   ]
  },
  {
   "cell_type": "code",
   "execution_count": null,
   "metadata": {},
   "outputs": [],
   "source": [
    "dict(enade.DESC_COR.value_counts())"
   ]
  },
  {
   "cell_type": "markdown",
   "metadata": {},
   "source": [
    "# Algumas perguntas para responder"
   ]
  },
  {
   "cell_type": "markdown",
   "metadata": {},
   "source": [
    "1. Qual a nota geral média dos alunos da região Nordeste?"
   ]
  },
  {
   "cell_type": "code",
   "execution_count": null,
   "metadata": {},
   "outputs": [],
   "source": [
    "enade.loc[\n",
    "    enade.CO_REGIAO_CURSO == \"Nordeste\",\n",
    "    \"NT_GER\"\n",
    "].mean()"
   ]
  },
  {
   "cell_type": "markdown",
   "metadata": {},
   "source": [
    "2. Qual é a média da nota do componente específico dos alunos do Rio Grande do Sul de cursos de Engenharia Elétrica?"
   ]
  },
  {
   "cell_type": "code",
   "execution_count": null,
   "metadata": {},
   "outputs": [],
   "source": [
    "enade.loc[\n",
    "    (enade.TP_SEXO == \"F\") &\n",
    "    (enade.DESC_COR == \"Parda\") &\n",
    "    (enade.CO_UF_CURSO == 31) &\n",
    "    (enade.CO_MODALIDADE == \"Presencial\") &\n",
    "    (enade.CO_GRUPO == 6208),\n",
    "    \"NT_FG\"\n",
    "].mean()"
   ]
  }
 ],
 "metadata": {
  "kernelspec": {
   "display_name": "Python 3",
   "language": "python",
   "name": "python3"
  },
  "language_info": {
   "codemirror_mode": {
    "name": "ipython",
    "version": 3
   },
   "file_extension": ".py",
   "mimetype": "text/x-python",
   "name": "python",
   "nbconvert_exporter": "python",
   "pygments_lexer": "ipython3",
   "version": "3.8.5"
  }
 },
 "nbformat": 4,
 "nbformat_minor": 4
}
